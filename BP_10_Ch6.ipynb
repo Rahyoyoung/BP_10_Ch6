{
  "nbformat": 4,
  "nbformat_minor": 0,
  "metadata": {
    "colab": {
      "provenance": [],
      "authorship_tag": "ABX9TyPmL+ZlLZ8GIyL9VxmCCp0z",
      "include_colab_link": true
    },
    "kernelspec": {
      "name": "python3",
      "display_name": "Python 3"
    },
    "language_info": {
      "name": "python"
    }
  },
  "cells": [
    {
      "cell_type": "markdown",
      "metadata": {
        "id": "view-in-github",
        "colab_type": "text"
      },
      "source": [
        "<a href=\"https://colab.research.google.com/github/Rahyoyoung/BP_10_Ch6/blob/main/BP_10_Ch6.ipynb\" target=\"_parent\"><img src=\"https://colab.research.google.com/assets/colab-badge.svg\" alt=\"Open In Colab\"/></a>"
      ]
    },
    {
      "cell_type": "code",
      "execution_count": 1,
      "metadata": {
        "colab": {
          "base_uri": "https://localhost:8080/"
        },
        "id": "f11x1BVbyns5",
        "outputId": "31406d32-765e-48bc-efa5-4b842c0f324c"
      },
      "outputs": [
        {
          "output_type": "stream",
          "name": "stdout",
          "text": [
            "2 4 6 8 10 12 14 16 18 20 22 24 26 28 30 32 34 36 38 40 42 44 46 48 50 52 54 56 58 60 62 64 66 68 70 72 74 76 78 80 82 84 86 88 90 92 94 96 98 100 "
          ]
        }
      ],
      "source": [
        "for i in range(2,101,2):#2~100사이 짝수만 범위 지정\n",
        "\n",
        "    print(i, end=\" \")#출력 값마다 공백"
      ]
    },
    {
      "cell_type": "code",
      "source": [
        "year = 0\n",
        "\n",
        "balance = 1000#변수 값 지정\n",
        "\n",
        "while balance <= 2000:# >= 를 <=로 변경\n",
        "\n",
        "    year = year + 1 #+1씩 누적 카운트 적용\n",
        "\n",
        "    interest = balance * 0.07# 7% 지정\n",
        "\n",
        "    balance = balance + interest\n",
        "\n",
        "print(year, \"년 걸립니다.\")"
      ],
      "metadata": {
        "colab": {
          "base_uri": "https://localhost:8080/"
        },
        "id": "_D481yZ1EdB-",
        "outputId": "5ce30c9a-1ff6-4b8b-fa2b-2e2aab49b06d"
      },
      "execution_count": 2,
      "outputs": [
        {
          "output_type": "stream",
          "name": "stdout",
          "text": [
            "11 년 걸립니다.\n"
          ]
        }
      ]
    },
    {
      "cell_type": "code",
      "source": [
        "n = 1234\n",
        "\n",
        "sum = 0\n",
        "\n",
        "#변수 값 지정\n",
        "\n",
        "while n > 0 :\n",
        "\n",
        "    digit = n % 10\n",
        "\n",
        "    sum = sum + digit\n",
        "\n",
        "    n = n // 10\n",
        "\n",
        "print(sum)#10 출력"
      ],
      "metadata": {
        "colab": {
          "base_uri": "https://localhost:8080/"
        },
        "id": "kNJmd7jYEdLD",
        "outputId": "0071b3be-a9c4-4865-ed57-3e107c77867f"
      },
      "execution_count": 3,
      "outputs": [
        {
          "output_type": "stream",
          "name": "stdout",
          "text": [
            "10\n"
          ]
        }
      ]
    },
    {
      "cell_type": "code",
      "source": [
        "import random\n",
        "\n",
        "a = random.randint(1, 10)\n",
        "\n",
        "b = random.randint(1, 10)\n",
        "\n",
        "#각각 1~10사이 랜덤값 생성 후 변수에 저장\n",
        "\n",
        "com = a * b#com은 a*b\n",
        "\n",
        "while True:\n",
        "\n",
        "    uesr = int(input(str(a) + \"*\" + str(b) + \"는 \"))\n",
        "\n",
        "    #루프 //사용자로 부터 값을 받아 user에 저장\n",
        "\n",
        "    if (uesr == com):# 랜덤 값과 입력 값이 같으면\n",
        "\n",
        "        print(\"맞았습니다.\")\n",
        "\n",
        "        break\n",
        "\n",
        "        #\"맞았습니다.\"출력 후 루프문 멈춤"
      ],
      "metadata": {
        "colab": {
          "base_uri": "https://localhost:8080/"
        },
        "id": "W8vIytYMEdNh",
        "outputId": "da40c232-351a-443d-d169-8494b3c6b786"
      },
      "execution_count": 4,
      "outputs": [
        {
          "output_type": "stream",
          "name": "stdout",
          "text": [
            "9*6는 54\n",
            "맞았습니다.\n"
          ]
        }
      ]
    },
    {
      "cell_type": "code",
      "source": [
        "sum = 0 #초기화\n",
        "\n",
        "while True:\n",
        "\n",
        "    a = int(input(\"정수를 입력하시오: \"))\n",
        "\n",
        "    #루프// 입력값을 받아 변수 저장\n",
        "\n",
        "    if (a == 0):# 입력값이 0과 같다면\n",
        "\n",
        "        break#루프문 종료\n",
        "\n",
        "    sum += a#입력 값 하나씩 더하기\n",
        "\n",
        "print(\"합은 \", sum, \"입니다.\")"
      ],
      "metadata": {
        "colab": {
          "base_uri": "https://localhost:8080/"
        },
        "id": "81GSQP1ZEdWH",
        "outputId": "18c6e29f-498d-4722-9dfc-46701a514966"
      },
      "execution_count": 5,
      "outputs": [
        {
          "output_type": "stream",
          "name": "stdout",
          "text": [
            "정수를 입력하시오: 1\n",
            "정수를 입력하시오: 2\n",
            "정수를 입력하시오: 3\n",
            "정수를 입력하시오: 0\n",
            "합은  6 입니다.\n"
          ]
        }
      ]
    },
    {
      "cell_type": "code",
      "source": [
        "import random\n",
        "\n",
        "count = 0#초기화\n",
        "\n",
        "\n",
        "while True:\n",
        "\n",
        "    i = random.randint(1, 7)\n",
        "\n",
        "    j = random.randint(1, 7)\n",
        "\n",
        "    #각각 1~7까지 랜덤 값 생성 후 변수에 저장\n",
        "\n",
        "    print(\"첫 번째 주사위 : \", i, \"두 번째 주사위 : \", j)\n",
        "\n",
        "    count += 1#누적 카운트\n",
        "\n",
        "    if(count == 5):#카운트 5번이 되면\n",
        "\n",
        "        break#루프문 종료"
      ],
      "metadata": {
        "colab": {
          "base_uri": "https://localhost:8080/"
        },
        "id": "QbjfmCIoEddQ",
        "outputId": "ea2c056d-c524-4788-b055-63907c4f69a0"
      },
      "execution_count": 6,
      "outputs": [
        {
          "output_type": "stream",
          "name": "stdout",
          "text": [
            "첫 번째 주사위 :  2 두 번째 주사위 :  7\n",
            "첫 번째 주사위 :  5 두 번째 주사위 :  3\n",
            "첫 번째 주사위 :  4 두 번째 주사위 :  4\n",
            "첫 번째 주사위 :  5 두 번째 주사위 :  2\n",
            "첫 번째 주사위 :  2 두 번째 주사위 :  3\n"
          ]
        }
      ]
    },
    {
      "cell_type": "code",
      "source": [
        "import turtle\n",
        "\n",
        "t = turtle.Turtle()\n",
        "\n",
        "t.shape(\"turtle\")\n",
        "\n",
        "count = 0\n",
        "\n",
        "t.lt(90)\n",
        "\n",
        "for i in range(6):#6번\n",
        "\n",
        "    t.fd(100); t.fd(-30); t.lt(60); t.fd(30); t.fd(-30)\n",
        "\n",
        "    t.rt(120); t.fd(30); t.fd(-30); t.lt(60); t.fd(-70); t.lt(60)"
      ],
      "metadata": {
        "id": "9vjj55SKEdf-"
      },
      "execution_count": null,
      "outputs": []
    },
    {
      "cell_type": "code",
      "source": [
        "import turtle\n",
        "\n",
        "\n",
        "t=turtle.Turtle()\n",
        "\n",
        "t.shape('turtle')\n",
        "\n",
        "t.color('red')\n",
        "\n",
        "\n",
        "for i in range(10):\n",
        "\n",
        "    for j in range(1, 6):   #별을 그릴때 선의 갯수만큼 반복\n",
        "\n",
        "        t.left(144)   #이동\n",
        "\n",
        "        t.forward(150)  #이동\n",
        "\n",
        "    t.left(10)\n",
        "\n",
        "   \n",
        "turtle.mainloop()"
      ],
      "metadata": {
        "id": "r9oiyIlQbqXj"
      },
      "execution_count": null,
      "outputs": []
    },
    {
      "cell_type": "code",
      "source": [
        "import random\n",
        "\n",
        "import turtle\n",
        "\n",
        "t = turtle.Turtle()\n",
        "\n",
        "t.shape(\"turtle\")\n",
        "\n",
        "\n",
        "for i in range(10):\n",
        "\n",
        "    x = random.randint(-150, 150)\n",
        "\n",
        "    y = random.randint(-150, 150)\n",
        "\n",
        "    r = random.randint(1, 100)\n",
        "\n",
        "    #각각 +- 150을 x,y에 저장 // 반지름은 1~100사이 r에 저장\n",
        "\n",
        "\n",
        "    t.up()\n",
        "\n",
        "    t.goto(x, y)\n",
        "\n",
        "    t.down()\n",
        "\n",
        "    t.circle(r)#반지름이  r인 원그리기"
      ],
      "metadata": {
        "id": "qtaa4qisFHRm"
      },
      "execution_count": null,
      "outputs": []
    },
    {
      "cell_type": "code",
      "source": [
        "import turtle\n",
        "\n",
        "t = turtle.Turtle()\n",
        "\n",
        "t.shape(\"turtle\")\n",
        "\n",
        "count = 0#초기화\n",
        "\n",
        "\n",
        "while True:\n",
        "\n",
        "    t.fd(100); t.rt(90); t.fd(20); t.rt(90)\n",
        "\n",
        "    t.fd(100); t.lt(90); t.fd(20);t.lt(90)\n",
        "\n",
        "\n",
        "    count += 1# 그릴때마다 누적 카운트 1\n",
        "\n",
        "    if(count == 7):#카운트가 7 즉 7번 그리면\n",
        "\n",
        "        break#루프문 종료"
      ],
      "metadata": {
        "id": "myi9MKUVFJfa"
      },
      "execution_count": null,
      "outputs": []
    },
    {
      "cell_type": "code",
      "source": [
        "import turtle\n",
        "\n",
        "\n",
        "t = turtle.Turtle()\n",
        "\n",
        "t.shape(\"turtle\")\n",
        "\n",
        "t.color('red', 'yellow')\n",
        "\n",
        "t.begin_fill()#도형 안 색상 전부 채우기\n",
        "\n",
        "\n",
        "while True:\n",
        "\n",
        "    t.fd(200)\n",
        "\n",
        "    t.lt(170)#이동\n",
        "\n",
        "    if abs(t.pos()) < 1:#절대값이 1보다 작으면 즉, 0이 되면\n",
        "\n",
        "        break#루프문 종료\n",
        "\n",
        "t.end_fill()#그리기 종료"
      ],
      "metadata": {
        "id": "ePZ6KzMMFLro"
      },
      "execution_count": null,
      "outputs": []
    },
    {
      "cell_type": "code",
      "source": [
        "import turtle\n",
        "\n",
        "import math\n",
        "\n",
        "t = turtle.Turtle()\n",
        "\n",
        "t.shape(\"turtle\")\n",
        "t.color('red' , 'yellow')\n",
        "\n",
        "for i in range(360):#360번 반복\n",
        "\n",
        "    sine = math.sin(math.pi * i / 180.0)\n",
        "\n",
        "    print(sine)\n",
        "\n",
        "    t.goto(i, sine * 100)"
      ],
      "metadata": {
        "id": "YKJ8oC8DL8B5"
      },
      "execution_count": null,
      "outputs": []
    }
  ]
}